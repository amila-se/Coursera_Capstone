{
    "cells": [
        {
            "cell_type": "markdown",
            "metadata": {
                "collapsed": true
            },
            "source": "# The Battle of the Neighborhoods (Week 1)\n### Applied Data Science Capstone by IBM/ Coursera"
        },
        {
            "cell_type": "markdown",
            "metadata": {},
            "source": "## Table of contents\n* [A: Introduction](#introduction)\n* [B: Data](#data)\n* [C: References](#references)"
        },
        {
            "cell_type": "markdown",
            "metadata": {},
            "source": "## A: Introduction <a name=\"introduction\"></a>"
        },
        {
            "cell_type": "markdown",
            "metadata": {},
            "source": "### A.1: Background"
        },
        {
            "cell_type": "markdown",
            "metadata": {},
            "source": "London is considered to be one of the world's most important global cities and has been called the world's most powerful, most desirable, most influential, most visited, most expensive, innovative, sustainable, most investment-friendly, and most-popular-for-work city.[1]\n\nEvery year, thousands of people make the move to London both from within the UK and from overseas. They decide to move and settle down in London due to many reasons such as work commitment changes, looking for better living conditions, etc. However, there are certain things they have to consider before moving in. London housing and rental prices are among the highest in the world and can eat up to a significant portion of their income. Furthermore, other living costs such as public transport fares, owning a vehicle & driving are not cheap either. Considering these and many other facts, it is relatively tough matter to decide to where to settle down within London."
        },
        {
            "cell_type": "markdown",
            "metadata": {},
            "source": "### A.2: Problem"
        },
        {
            "cell_type": "markdown",
            "metadata": {},
            "source": "London has 32 boroughs which vary from each other by many aspects: cost of living, housing prices, crime rates, etc. to name a few.  Therefore, our problem here would be to **find out the best London borough to live** considering various facts & environments mentioned above."
        },
        {
            "cell_type": "markdown",
            "metadata": {},
            "source": "### A.3: Interest"
        },
        {
            "cell_type": "markdown",
            "metadata": {},
            "source": "Any newcomer has to educate themselves beforehand about the things mentioned above to decide the best place for them to settle down. Furthermore, it is for any real estate agent\u2019s advantage that they are well updated on such matters whenever a client contacts them with such enquiry. Also, this knowledge will be welcomed by any property developer as it helps them on deciding best places to build their next housing scheme."
        },
        {
            "cell_type": "markdown",
            "metadata": {},
            "source": "## B: Data <a name=\"data\"></a>"
        },
        {
            "cell_type": "markdown",
            "metadata": {},
            "source": "### B.1 Data Description"
        },
        {
            "cell_type": "markdown",
            "metadata": {},
            "source": "Based on the definition of our problem, there are certain data sets we have to consider:\n* Various facts about the 32 London boroughs; ex: cost of living, house price, crime rate\n* Other facilities that make them desirable neighbourhoods; ex: parks, shopping malls, attractions\n* Since we are intend to elaborate these data using a choropleth map, we need to have boundaries of London boroughs"
        },
        {
            "cell_type": "markdown",
            "metadata": {},
            "source": "### B.2 Data Sources"
        },
        {
            "cell_type": "markdown",
            "metadata": {},
            "source": "Following data sources will be used to extract or generate the required information:\n* Data and facts about London boroughs will be obtained as a .csv file from **London Borough Profiles and Atlas, London Data Store** website[2]\n* Important venues and other desired locations will be obtained using **Foursquare API**[3]\n* London borough boundaries will be obtained as a .json file from **Statistical GIS Boundary Files for London, London Data Store** website[4]"
        },
        {
            "cell_type": "markdown",
            "metadata": {},
            "source": "### B.3 Obtaining Data and Fine Tuning"
        },
        {
            "cell_type": "markdown",
            "metadata": {},
            "source": "Let us first download the London borough profiles data set"
        },
        {
            "cell_type": "code",
            "execution_count": 2,
            "metadata": {},
            "outputs": [],
            "source": "import pandas as pd\nimport numpy as np\nimport requests\nfrom geopy.geocoders import Nominatim"
        },
        {
            "cell_type": "code",
            "execution_count": 5,
            "metadata": {
                "scrolled": true
            },
            "outputs": [
                {
                    "data": {
                        "text/html": "<div>\n<style scoped>\n    .dataframe tbody tr th:only-of-type {\n        vertical-align: middle;\n    }\n\n    .dataframe tbody tr th {\n        vertical-align: top;\n    }\n\n    .dataframe thead th {\n        text-align: right;\n    }\n</style>\n<table border=\"1\" class=\"dataframe\">\n  <thead>\n    <tr style=\"text-align: right;\">\n      <th></th>\n      <th>Code</th>\n      <th>Area_name</th>\n      <th>Inner/_Outer_London</th>\n      <th>GLA_Population_Estimate_2017</th>\n      <th>GLA_Household_Estimate_2017</th>\n      <th>Inland_Area_(Hectares)</th>\n      <th>Population_density_(per_hectare)_2017</th>\n      <th>Average_Age,_2017</th>\n      <th>Proportion_of_population_aged_0-15,_2015</th>\n      <th>Proportion_of_population_of_working-age,_2015</th>\n      <th>...</th>\n      <th>Happiness_score_2011-14_(out_of_10)</th>\n      <th>Anxiety_score_2011-14_(out_of_10)</th>\n      <th>Childhood_Obesity_Prevalance_(%)_2015/16</th>\n      <th>People_aged_17+_with_diabetes_(%)</th>\n      <th>Mortality_rate_from_causes_considered_preventable_2012/14</th>\n      <th>Political_control_in_council</th>\n      <th>Proportion_of_seats_won_by_Conservatives_in_2014_election</th>\n      <th>Proportion_of_seats_won_by_Labour_in_2014_election</th>\n      <th>Proportion_of_seats_won_by_Lib_Dems_in_2014_election</th>\n      <th>Turnout_at_2014_local_elections</th>\n    </tr>\n  </thead>\n  <tbody>\n    <tr>\n      <th>0</th>\n      <td>E09000001</td>\n      <td>City of London</td>\n      <td>Inner London</td>\n      <td>8800</td>\n      <td>5326</td>\n      <td>290</td>\n      <td>30.3</td>\n      <td>43.2</td>\n      <td>11.4</td>\n      <td>73.1</td>\n      <td>...</td>\n      <td>6.0</td>\n      <td>5.6</td>\n      <td>NaN</td>\n      <td>2.6</td>\n      <td>129</td>\n      <td>.</td>\n      <td>.</td>\n      <td>.</td>\n      <td>.</td>\n      <td>.</td>\n    </tr>\n    <tr>\n      <th>1</th>\n      <td>E09000002</td>\n      <td>Barking and Dagenham</td>\n      <td>Outer London</td>\n      <td>209000</td>\n      <td>78188</td>\n      <td>3,611</td>\n      <td>57.9</td>\n      <td>32.9</td>\n      <td>27.2</td>\n      <td>63.1</td>\n      <td>...</td>\n      <td>7.1</td>\n      <td>3.1</td>\n      <td>28.5</td>\n      <td>7.3</td>\n      <td>228</td>\n      <td>Lab</td>\n      <td>0</td>\n      <td>100</td>\n      <td>0</td>\n      <td>36.5</td>\n    </tr>\n    <tr>\n      <th>2</th>\n      <td>E09000003</td>\n      <td>Barnet</td>\n      <td>Outer London</td>\n      <td>389600</td>\n      <td>151423</td>\n      <td>8,675</td>\n      <td>44.9</td>\n      <td>37.3</td>\n      <td>21.1</td>\n      <td>64.9</td>\n      <td>...</td>\n      <td>7.4</td>\n      <td>2.8</td>\n      <td>20.7</td>\n      <td>6.0</td>\n      <td>134</td>\n      <td>Cons</td>\n      <td>50.8</td>\n      <td>.</td>\n      <td>1.6</td>\n      <td>40.5</td>\n    </tr>\n    <tr>\n      <th>3</th>\n      <td>E09000004</td>\n      <td>Bexley</td>\n      <td>Outer London</td>\n      <td>244300</td>\n      <td>97736</td>\n      <td>6,058</td>\n      <td>40.3</td>\n      <td>39.0</td>\n      <td>20.6</td>\n      <td>62.9</td>\n      <td>...</td>\n      <td>7.2</td>\n      <td>3.3</td>\n      <td>22.7</td>\n      <td>6.9</td>\n      <td>164</td>\n      <td>Cons</td>\n      <td>71.4</td>\n      <td>23.8</td>\n      <td>0</td>\n      <td>39.6</td>\n    </tr>\n    <tr>\n      <th>4</th>\n      <td>E09000005</td>\n      <td>Brent</td>\n      <td>Outer London</td>\n      <td>332100</td>\n      <td>121048</td>\n      <td>4,323</td>\n      <td>76.8</td>\n      <td>35.6</td>\n      <td>20.9</td>\n      <td>67.8</td>\n      <td>...</td>\n      <td>7.2</td>\n      <td>2.9</td>\n      <td>24.3</td>\n      <td>7.9</td>\n      <td>169</td>\n      <td>Lab</td>\n      <td>9.5</td>\n      <td>88.9</td>\n      <td>1.6</td>\n      <td>36.3</td>\n    </tr>\n  </tbody>\n</table>\n<p>5 rows \u00d7 84 columns</p>\n</div>",
                        "text/plain": "        Code             Area_name Inner/_Outer_London  \\\n0  E09000001        City of London        Inner London   \n1  E09000002  Barking and Dagenham        Outer London   \n2  E09000003                Barnet        Outer London   \n3  E09000004                Bexley        Outer London   \n4  E09000005                 Brent        Outer London   \n\n   GLA_Population_Estimate_2017 GLA_Household_Estimate_2017  \\\n0                          8800                        5326   \n1                        209000                       78188   \n2                        389600                      151423   \n3                        244300                       97736   \n4                        332100                      121048   \n\n  Inland_Area_(Hectares) Population_density_(per_hectare)_2017  \\\n0                    290                                  30.3   \n1                  3,611                                  57.9   \n2                  8,675                                  44.9   \n3                  6,058                                  40.3   \n4                  4,323                                  76.8   \n\n   Average_Age,_2017  Proportion_of_population_aged_0-15,_2015  \\\n0               43.2                                      11.4   \n1               32.9                                      27.2   \n2               37.3                                      21.1   \n3               39.0                                      20.6   \n4               35.6                                      20.9   \n\n   Proportion_of_population_of_working-age,_2015  ...  \\\n0                                           73.1  ...   \n1                                           63.1  ...   \n2                                           64.9  ...   \n3                                           62.9  ...   \n4                                           67.8  ...   \n\n   Happiness_score_2011-14_(out_of_10) Anxiety_score_2011-14_(out_of_10)  \\\n0                                  6.0                               5.6   \n1                                  7.1                               3.1   \n2                                  7.4                               2.8   \n3                                  7.2                               3.3   \n4                                  7.2                               2.9   \n\n  Childhood_Obesity_Prevalance_(%)_2015/16 People_aged_17+_with_diabetes_(%)  \\\n0                                      NaN                               2.6   \n1                                     28.5                               7.3   \n2                                     20.7                               6.0   \n3                                     22.7                               6.9   \n4                                     24.3                               7.9   \n\n  Mortality_rate_from_causes_considered_preventable_2012/14  \\\n0                                                129          \n1                                                228          \n2                                                134          \n3                                                164          \n4                                                169          \n\n  Political_control_in_council  \\\n0                            .   \n1                          Lab   \n2                         Cons   \n3                         Cons   \n4                          Lab   \n\n  Proportion_of_seats_won_by_Conservatives_in_2014_election  \\\n0                                                  .          \n1                                                  0          \n2                                               50.8          \n3                                               71.4          \n4                                                9.5          \n\n  Proportion_of_seats_won_by_Labour_in_2014_election  \\\n0                                                  .   \n1                                                100   \n2                                                  .   \n3                                               23.8   \n4                                               88.9   \n\n  Proportion_of_seats_won_by_Lib_Dems_in_2014_election  \\\n0                                                  .     \n1                                                  0     \n2                                                1.6     \n3                                                  0     \n4                                                1.6     \n\n  Turnout_at_2014_local_elections  \n0                               .  \n1                            36.5  \n2                            40.5  \n3                            39.6  \n4                            36.3  \n\n[5 rows x 84 columns]"
                    },
                    "execution_count": 5,
                    "metadata": {},
                    "output_type": "execute_result"
                }
            ],
            "source": "#!wget -O londonborough.csv https://data.london.gov.uk/download/london-borough-profiles/c1693b82-68b1-44ee-beb2-3decf17dc1f8/london-borough-profiles.csv\n\ndf = pd.read_csv('londonborough.csv', encoding = 'windows-1252')\ndf.head()"
        },
        {
            "cell_type": "markdown",
            "metadata": {},
            "source": "We decided to drop some unnecessary columns from our dataset"
        },
        {
            "cell_type": "code",
            "execution_count": 7,
            "metadata": {
                "scrolled": true
            },
            "outputs": [
                {
                    "data": {
                        "text/html": "<div>\n<style scoped>\n    .dataframe tbody tr th:only-of-type {\n        vertical-align: middle;\n    }\n\n    .dataframe tbody tr th {\n        vertical-align: top;\n    }\n\n    .dataframe thead th {\n        text-align: right;\n    }\n</style>\n<table border=\"1\" class=\"dataframe\">\n  <thead>\n    <tr style=\"text-align: right;\">\n      <th></th>\n      <th>Code</th>\n      <th>Area_name</th>\n      <th>Inner/_Outer_London</th>\n      <th>Number_of_active_businesses,_2015</th>\n      <th>Crime_rates_per_thousand_population_2014/15</th>\n      <th>Fires_per_thousand_population_(2014)</th>\n      <th>Median_House_Price,_2015</th>\n      <th>Average_Band_D_Council_Tax_charge_(\u00a3),_2015/16</th>\n      <th>%_of_area_that_is_Greenspace,_2005</th>\n      <th>Average_Public_Transport_Accessibility_score,_2014</th>\n      <th>Achievement_of_5_or_more_A*-_C_grades_at_GCSE_or_equivalent_including_English_and_Maths,_2013/14</th>\n      <th>Life_satisfaction_score_2011-14_(out_of_10)</th>\n      <th>Worthwhileness_score_2011-14_(out_of_10)</th>\n      <th>Happiness_score_2011-14_(out_of_10)</th>\n    </tr>\n  </thead>\n  <tbody>\n    <tr>\n      <th>0</th>\n      <td>E09000001</td>\n      <td>City of London</td>\n      <td>Inner London</td>\n      <td>26130</td>\n      <td>.</td>\n      <td>12.3</td>\n      <td>799999</td>\n      <td>931.2</td>\n      <td>4.8</td>\n      <td>7.9</td>\n      <td>78.6</td>\n      <td>6.6</td>\n      <td>7.1</td>\n      <td>6.0</td>\n    </tr>\n    <tr>\n      <th>1</th>\n      <td>E09000002</td>\n      <td>Barking and Dagenham</td>\n      <td>Outer London</td>\n      <td>6560</td>\n      <td>83.4</td>\n      <td>3</td>\n      <td>243500</td>\n      <td>1354.03</td>\n      <td>33.6</td>\n      <td>3</td>\n      <td>58</td>\n      <td>7.1</td>\n      <td>7.6</td>\n      <td>7.1</td>\n    </tr>\n    <tr>\n      <th>2</th>\n      <td>E09000003</td>\n      <td>Barnet</td>\n      <td>Outer London</td>\n      <td>26190</td>\n      <td>62.7</td>\n      <td>1.6</td>\n      <td>445000</td>\n      <td>1397.07</td>\n      <td>41.3</td>\n      <td>3</td>\n      <td>67.3</td>\n      <td>7.5</td>\n      <td>7.8</td>\n      <td>7.4</td>\n    </tr>\n    <tr>\n      <th>3</th>\n      <td>E09000004</td>\n      <td>Bexley</td>\n      <td>Outer London</td>\n      <td>9075</td>\n      <td>51.8</td>\n      <td>2.3</td>\n      <td>275000</td>\n      <td>1472.43</td>\n      <td>31.7</td>\n      <td>2.6</td>\n      <td>60.3</td>\n      <td>7.4</td>\n      <td>7.7</td>\n      <td>7.2</td>\n    </tr>\n    <tr>\n      <th>4</th>\n      <td>E09000005</td>\n      <td>Brent</td>\n      <td>Outer London</td>\n      <td>15745</td>\n      <td>78.8</td>\n      <td>1.8</td>\n      <td>407250</td>\n      <td>1377.24</td>\n      <td>21.9</td>\n      <td>3.7</td>\n      <td>60.1</td>\n      <td>7.3</td>\n      <td>7.4</td>\n      <td>7.2</td>\n    </tr>\n  </tbody>\n</table>\n</div>",
                        "text/plain": "        Code             Area_name Inner/_Outer_London  \\\n0  E09000001        City of London        Inner London   \n1  E09000002  Barking and Dagenham        Outer London   \n2  E09000003                Barnet        Outer London   \n3  E09000004                Bexley        Outer London   \n4  E09000005                 Brent        Outer London   \n\n   Number_of_active_businesses,_2015  \\\n0                              26130   \n1                               6560   \n2                              26190   \n3                               9075   \n4                              15745   \n\n  Crime_rates_per_thousand_population_2014/15  \\\n0                                           .   \n1                                        83.4   \n2                                        62.7   \n3                                        51.8   \n4                                        78.8   \n\n  Fires_per_thousand_population_(2014) Median_House_Price,_2015  \\\n0                                 12.3                   799999   \n1                                    3                   243500   \n2                                  1.6                   445000   \n3                                  2.3                   275000   \n4                                  1.8                   407250   \n\n  Average_Band_D_Council_Tax_charge_(\u00a3),_2015/16  \\\n0                                          931.2   \n1                                        1354.03   \n2                                        1397.07   \n3                                        1472.43   \n4                                        1377.24   \n\n  %_of_area_that_is_Greenspace,_2005  \\\n0                                4.8   \n1                               33.6   \n2                               41.3   \n3                               31.7   \n4                               21.9   \n\n  Average_Public_Transport_Accessibility_score,_2014  \\\n0                                                7.9   \n1                                                  3   \n2                                                  3   \n3                                                2.6   \n4                                                3.7   \n\n  Achievement_of_5_or_more_A*-_C_grades_at_GCSE_or_equivalent_including_English_and_Maths,_2013/14  \\\n0                                               78.6                                                 \n1                                                 58                                                 \n2                                               67.3                                                 \n3                                               60.3                                                 \n4                                               60.1                                                 \n\n   Life_satisfaction_score_2011-14_(out_of_10)  \\\n0                                          6.6   \n1                                          7.1   \n2                                          7.5   \n3                                          7.4   \n4                                          7.3   \n\n   Worthwhileness_score_2011-14_(out_of_10)  \\\n0                                       7.1   \n1                                       7.6   \n2                                       7.8   \n3                                       7.7   \n4                                       7.4   \n\n   Happiness_score_2011-14_(out_of_10)  \n0                                  6.0  \n1                                  7.1  \n2                                  7.4  \n3                                  7.2  \n4                                  7.2  "
                    },
                    "execution_count": 7,
                    "metadata": {},
                    "output_type": "execute_result"
                }
            ],
            "source": "ft1_df = df.drop(['GLA_Population_Estimate_2017','GLA_Household_Estimate_2017','Inland_Area_(Hectares)','Population_density_(per_hectare)_2017','Average_Age,_2017','Proportion_of_population_aged_0-15,_2015','Proportion_of_population_of_working-age,_2015','Proportion_of_population_aged_65_and_over,_2015','Net_internal_migration_(2015)','Net_international_migration_(2015)','Net_natural_change_(2015)','%_of_resident_population_born_abroad_(2015)','Largest_migrant_population_by_country_of_birth_(2011)','%_of_largest_migrant_population_(2011)','Second_largest_migrant_population_by_country_of_birth_(2011)','%_of_second_largest_migrant_population_(2011)','Third_largest_migrant_population_by_country_of_birth_(2011)','%_of_third_largest_migrant_population_(2011)','%_of_population_from_BAME_groups_(2016)','%_people_aged_3+_whose_main_language_is_not_English_(2011_Census)','Overseas_nationals_entering_the_UK_(NINo),_(2015/16)','New_migrant_(NINo)_rates,_(2015/16)','Largest_migrant_population_arrived_during_2015/16','Second_largest_migrant_population_arrived_during_2015/16','Third_largest_migrant_population_arrived_during_2015/16','Employment_rate_(%)_(2015)','Male_employment_rate_(2015)','Female_employment_rate_(2015)','Unemployment_rate_(2015)','Youth_Unemployment_(claimant)_rate_18-24_(Dec-15)','Proportion_of_16-18_year_olds_who_are_NEET_(%)_(2014)','Proportion_of_the_working-age_population_who_claim_out-of-work_benefits_(%)_(May-2016)','%_working-age_with_a_disability_(2015)','Proportion_of_working_age_people_with_no_qualifications_(%)_2015','Proportion_of_working_age_with_degree_or_equivalent_and_above_(%)_2015','Gross_Annual_Pay,_(2016)','Gross_Annual_Pay_-_Male_(2016)','Gross_Annual_Pay_-_Female_(2016)','Modelled_Household_median_income_estimates_2012/13','%_adults_that_volunteered_in_past_12_months_(2010/11_to_2012/13)','Number_of_jobs_by_workplace_(2014)','%_of_employment_that_is_in_public_sector_(2014)','Jobs_Density,_2015','Two-year_business_survival_rates_(started_in_2013)','Ambulance_incidents_per_hundred_population_(2014)','New_Homes_(net)_2015/16_(provisional)','Homes_Owned_outright,_(2014)_%','Being_bought_with_mortgage_or_loan,_(2014)_%','Rented_from_Local_Authority_or_Housing_Association,_(2014)_%','Rented_from_Private_landlord,_(2014)_%','Total_carbon_emissions_(2014)','Household_Waste_Recycling_Rate,_2014/15','Number_of_cars,_(2011_Census)','Number_of_cars_per_household,_(2011_Census)','%_of_adults_who_cycle_at_least_once_per_month,_2014/15','Rates_of_Children_Looked_After_(2016)','%_of_pupils_whose_first_language_is_not_English_(2015)','%_children_living_in_out-of-work_households_(2015)','Male_life_expectancy,_(2012-14)','Female_life_expectancy,_(2012-14)','Teenage_conception_rate_(2014)','Anxiety_score_2011-14_(out_of_10)','Childhood_Obesity_Prevalance_(%)_2015/16','People_aged_17+_with_diabetes_(%)','Mortality_rate_from_causes_considered_preventable_2012/14','Political_control_in_council','Proportion_of_seats_won_by_Conservatives_in_2014_election','Proportion_of_seats_won_by_Labour_in_2014_election','Proportion_of_seats_won_by_Lib_Dems_in_2014_election','Turnout_at_2014_local_elections'], axis=1)\nft1_df.head()"
        },
        {
            "cell_type": "markdown",
            "metadata": {},
            "source": "Now we are going to rename some long column names to make them better looking"
        },
        {
            "cell_type": "code",
            "execution_count": 8,
            "metadata": {
                "scrolled": false
            },
            "outputs": [
                {
                    "data": {
                        "text/html": "<div>\n<style scoped>\n    .dataframe tbody tr th:only-of-type {\n        vertical-align: middle;\n    }\n\n    .dataframe tbody tr th {\n        vertical-align: top;\n    }\n\n    .dataframe thead th {\n        text-align: right;\n    }\n</style>\n<table border=\"1\" class=\"dataframe\">\n  <thead>\n    <tr style=\"text-align: right;\">\n      <th></th>\n      <th>Code</th>\n      <th>Burough</th>\n      <th>Inner_Outer</th>\n      <th>Businesses</th>\n      <th>Crime_rate</th>\n      <th>Fires_rate</th>\n      <th>House_Price</th>\n      <th>Council_tax</th>\n      <th>Greenspace</th>\n      <th>Public_Transport</th>\n      <th>GCSE</th>\n      <th>Life_satisfaction</th>\n      <th>Worthiness</th>\n      <th>Happiness</th>\n    </tr>\n  </thead>\n  <tbody>\n    <tr>\n      <th>0</th>\n      <td>E09000001</td>\n      <td>City of London</td>\n      <td>Inner London</td>\n      <td>26130</td>\n      <td>.</td>\n      <td>12.3</td>\n      <td>799999</td>\n      <td>931.2</td>\n      <td>4.8</td>\n      <td>7.9</td>\n      <td>78.6</td>\n      <td>6.6</td>\n      <td>7.1</td>\n      <td>6.0</td>\n    </tr>\n    <tr>\n      <th>1</th>\n      <td>E09000002</td>\n      <td>Barking and Dagenham</td>\n      <td>Outer London</td>\n      <td>6560</td>\n      <td>83.4</td>\n      <td>3</td>\n      <td>243500</td>\n      <td>1354.03</td>\n      <td>33.6</td>\n      <td>3</td>\n      <td>58</td>\n      <td>7.1</td>\n      <td>7.6</td>\n      <td>7.1</td>\n    </tr>\n    <tr>\n      <th>2</th>\n      <td>E09000003</td>\n      <td>Barnet</td>\n      <td>Outer London</td>\n      <td>26190</td>\n      <td>62.7</td>\n      <td>1.6</td>\n      <td>445000</td>\n      <td>1397.07</td>\n      <td>41.3</td>\n      <td>3</td>\n      <td>67.3</td>\n      <td>7.5</td>\n      <td>7.8</td>\n      <td>7.4</td>\n    </tr>\n    <tr>\n      <th>3</th>\n      <td>E09000004</td>\n      <td>Bexley</td>\n      <td>Outer London</td>\n      <td>9075</td>\n      <td>51.8</td>\n      <td>2.3</td>\n      <td>275000</td>\n      <td>1472.43</td>\n      <td>31.7</td>\n      <td>2.6</td>\n      <td>60.3</td>\n      <td>7.4</td>\n      <td>7.7</td>\n      <td>7.2</td>\n    </tr>\n    <tr>\n      <th>4</th>\n      <td>E09000005</td>\n      <td>Brent</td>\n      <td>Outer London</td>\n      <td>15745</td>\n      <td>78.8</td>\n      <td>1.8</td>\n      <td>407250</td>\n      <td>1377.24</td>\n      <td>21.9</td>\n      <td>3.7</td>\n      <td>60.1</td>\n      <td>7.3</td>\n      <td>7.4</td>\n      <td>7.2</td>\n    </tr>\n  </tbody>\n</table>\n</div>",
                        "text/plain": "        Code               Burough   Inner_Outer  Businesses Crime_rate  \\\n0  E09000001        City of London  Inner London       26130          .   \n1  E09000002  Barking and Dagenham  Outer London        6560       83.4   \n2  E09000003                Barnet  Outer London       26190       62.7   \n3  E09000004                Bexley  Outer London        9075       51.8   \n4  E09000005                 Brent  Outer London       15745       78.8   \n\n  Fires_rate House_Price Council_tax Greenspace Public_Transport  GCSE  \\\n0       12.3      799999       931.2        4.8              7.9  78.6   \n1          3      243500     1354.03       33.6                3    58   \n2        1.6      445000     1397.07       41.3                3  67.3   \n3        2.3      275000     1472.43       31.7              2.6  60.3   \n4        1.8      407250     1377.24       21.9              3.7  60.1   \n\n   Life_satisfaction  Worthiness  Happiness  \n0                6.6         7.1        6.0  \n1                7.1         7.6        7.1  \n2                7.5         7.8        7.4  \n3                7.4         7.7        7.2  \n4                7.3         7.4        7.2  "
                    },
                    "execution_count": 8,
                    "metadata": {},
                    "output_type": "execute_result"
                }
            ],
            "source": "ft2_df = ft1_df.rename(columns = {\"Area_name\":\"Burough\", \"Inner/_Outer_London\":\"Inner_Outer\", \"Number_of_active_businesses,_2015\":\"Businesses\", \"Crime_rates_per_thousand_population_2014/15\":\"Crime_rate\", \"Fires_per_thousand_population_(2014)\":\"Fires_rate\", \"Median_House_Price,_2015\":\"House_Price\", \"Average_Band_D_Council_Tax_charge_(\u00a3),_2015/16\":\"Council_tax\", \"%_of_area_that_is_Greenspace,_2005\":\"Greenspace\", \"Average_Public_Transport_Accessibility_score,_2014\":\"Public_Transport\", \"Achievement_of_5_or_more_A*-_C_grades_at_GCSE_or_equivalent_including_English_and_Maths,_2013/14\":\"GCSE\", \"Life_satisfaction_score_2011-14_(out_of_10)\":\"Life_satisfaction\", \"Worthwhileness_score_2011-14_(out_of_10)\":\"Worthiness\", \"Happiness_score_2011-14_(out_of_10)\":\"Happiness\"})\nft2_df.head()"
        },
        {
            "cell_type": "markdown",
            "metadata": {},
            "source": "## C: References <a name=\"references\"></a>"
        },
        {
            "cell_type": "markdown",
            "metadata": {},
            "source": "* [1] London Wikipedia Page, https://en.wikipedia.org/wiki/London\n* [2] London Borough Profiles and Atlas, London Data Store, https://data.london.gov.uk/dataset/london-borough-profiles\n* [3] Foursquare API, https://developer.foursquare.com/\n* [4] Statistical GIS Boundary Files for London, London Data Store, https://data.london.gov.uk/dataset/statistical-gis-boundary-files-london"
        },
        {
            "cell_type": "code",
            "execution_count": null,
            "metadata": {},
            "outputs": [],
            "source": ""
        }
    ],
    "metadata": {
        "kernelspec": {
            "display_name": "Python 3.6",
            "language": "python",
            "name": "python3"
        },
        "language_info": {
            "codemirror_mode": {
                "name": "ipython",
                "version": 3
            },
            "file_extension": ".py",
            "mimetype": "text/x-python",
            "name": "python",
            "nbconvert_exporter": "python",
            "pygments_lexer": "ipython3",
            "version": "3.6.9"
        }
    },
    "nbformat": 4,
    "nbformat_minor": 1
}