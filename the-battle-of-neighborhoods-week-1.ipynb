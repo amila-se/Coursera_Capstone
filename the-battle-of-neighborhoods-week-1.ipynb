{
    "cells": [
        {
            "cell_type": "markdown",
            "metadata": {
                "collapsed": true
            },
            "source": "# The Battle of the Neighborhoods (Week 1)\n### Applied Data Science Capstone by IBM/ Coursera"
        },
        {
            "cell_type": "markdown",
            "metadata": {},
            "source": "## Table of contents\n* [A: Introduction](#introduction)\n* [B: Data](#data)\n* [C: References](#references)"
        },
        {
            "cell_type": "markdown",
            "metadata": {},
            "source": "## A: Introduction <a name=\"introduction\"></a>"
        },
        {
            "cell_type": "markdown",
            "metadata": {},
            "source": "### A.1: Background"
        },
        {
            "cell_type": "markdown",
            "metadata": {},
            "source": "London is considered to be one of the world's most important global cities and has been called the world's most powerful, most desirable, most influential, most visited, most expensive, innovative, sustainable, most investment-friendly, and most-popular-for-work city.[1]\n\nEvery year, thousands of people make the move to London both from within the UK and from overseas. They decide to move and settle down in London due to many reasons such as work commitment changes, looking for better living conditions, etc. However, there are certain things they have to consider before moving in. London housing and rental prices are among the highest in the world and can eat up to a significant portion of their income. Furthermore, other living costs such as public transport fares, owning a vehicle & driving are not cheap either. Considering these and many other facts, it is relatively tough matter to decide to where to settle down within London."
        },
        {
            "cell_type": "markdown",
            "metadata": {},
            "source": "### A.2: Problem"
        },
        {
            "cell_type": "markdown",
            "metadata": {},
            "source": "London has 32 boroughs which vary from each other by many aspects: cost of living, housing prices, crime rates, etc. to name a few.  Therefore, our problem here would be to find out the best London borough to live considering the above facts & environments."
        },
        {
            "cell_type": "markdown",
            "metadata": {},
            "source": "### A.3: Interest"
        },
        {
            "cell_type": "markdown",
            "metadata": {},
            "source": "Any newcomer has to educate themselves beforehand about the things mentioned above to decide the best place for them to settle down. Furthermore, it is for any real estate agent\u2019s advantage that they are well updated on such matters whenever a client contacts them with such enquiry. Also, this knowledge will be welcomed by any property developer as it helps them on deciding best places to build their next housing scheme."
        },
        {
            "cell_type": "markdown",
            "metadata": {},
            "source": "## B: Data <a name=\"data\"></a>"
        },
        {
            "cell_type": "markdown",
            "metadata": {},
            "source": "## C: References <a name=\"references\"></a>"
        },
        {
            "cell_type": "markdown",
            "metadata": {},
            "source": "[1] _London - Wikipedia_, https://en.wikipedia.org/wiki/London"
        },
        {
            "cell_type": "code",
            "execution_count": null,
            "metadata": {},
            "outputs": [],
            "source": ""
        }
    ],
    "metadata": {
        "kernelspec": {
            "display_name": "Python 3.6",
            "language": "python",
            "name": "python3"
        },
        "language_info": {
            "codemirror_mode": {
                "name": "ipython",
                "version": 3
            },
            "file_extension": ".py",
            "mimetype": "text/x-python",
            "name": "python",
            "nbconvert_exporter": "python",
            "pygments_lexer": "ipython3",
            "version": "3.6.9"
        }
    },
    "nbformat": 4,
    "nbformat_minor": 1
}